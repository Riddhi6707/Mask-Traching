{
 "cells": [
  {
   "cell_type": "markdown",
   "metadata": {
    "id": "6H7b4cJRdr5w"
   },
   "source": [
    "# MaskTrack"
   ]
  },
  {
   "cell_type": "markdown",
   "metadata": {
    "id": "Sy1qu3KCdr52"
   },
   "source": [
    "### Google Colab Setup"
   ]
  },
  {
   "cell_type": "code",
   "execution_count": null,
   "metadata": {
    "id": "Tpzt8cNGdwdC"
   },
   "outputs": [],
   "source": [
    "!git clone https://github.com/bhavyaajani/DAVIS2017"
   ]
  },
  {
   "cell_type": "markdown",
   "metadata": {
    "id": "q9s0Xp1edr54"
   },
   "source": [
    "### Python Imports"
   ]
  },
  {
   "cell_type": "code",
   "execution_count": 1,
   "metadata": {
    "id": "ZpOwcvo0dr54"
   },
   "outputs": [],
   "source": [
    "# Define your python imports\n",
    "import glob"
   ]
  },
  {
   "cell_type": "markdown",
   "metadata": {
    "id": "S8fh5azxdr55"
   },
   "source": [
    "### Definitions"
   ]
  },
  {
   "cell_type": "code",
   "execution_count": 10,
   "metadata": {
    "id": "Qdke3C74dr55"
   },
   "outputs": [],
   "source": [
    "#External directories defined here!\n",
    "root_data_dir = 'DAVIS2017'"
   ]
  },
  {
   "cell_type": "code",
   "execution_count": 13,
   "metadata": {
    "id": "Wn6XMHd4dr56"
   },
   "outputs": [],
   "source": [
    "class_list = sorted(glob.glob(root_data_dir+\"/Train/**\"))"
   ]
  },
  {
   "cell_type": "markdown",
   "metadata": {},
   "source": [
    "## Common Code"
   ]
  },
  {
   "cell_type": "code",
   "execution_count": 16,
   "metadata": {},
   "outputs": [],
   "source": [
    "# Implement common (re-usable) functions for all 3 tasks in next few cells"
   ]
  },
  {
   "cell_type": "markdown",
   "metadata": {},
   "source": [
    "## Task 1 - Base Network"
   ]
  },
  {
   "cell_type": "code",
   "execution_count": 14,
   "metadata": {},
   "outputs": [],
   "source": [
    "# Write APIs to load data for Task 1 and split into Train/Validation set"
   ]
  },
  {
   "cell_type": "code",
   "execution_count": null,
   "metadata": {
    "id": "IgzrKDq2dr57"
   },
   "outputs": [],
   "source": [
    "# Unit tests to ensure data load for Task 1 is correct (display few of the samples)"
   ]
  },
  {
   "cell_type": "code",
   "execution_count": null,
   "metadata": {
    "id": "8NEjIOogdr57"
   },
   "outputs": [],
   "source": [
    "# Implement DL algorithm for Task 1 in next few cells"
   ]
  },
  {
   "cell_type": "code",
   "execution_count": null,
   "metadata": {},
   "outputs": [],
   "source": [
    "# Document quality metric for Task 1 on validation set (display few of the results as well)"
   ]
  },
  {
   "cell_type": "code",
   "execution_count": null,
   "metadata": {},
   "outputs": [],
   "source": [
    "# Save trained model for Task 1 (Ensure to download this to your local system / google drive for persistance storage)"
   ]
  },
  {
   "cell_type": "markdown",
   "metadata": {},
   "source": [
    "## Task 2 - Offline Training"
   ]
  },
  {
   "cell_type": "code",
   "execution_count": null,
   "metadata": {},
   "outputs": [],
   "source": [
    "# Load saved model from Task 1"
   ]
  },
  {
   "cell_type": "code",
   "execution_count": 15,
   "metadata": {},
   "outputs": [],
   "source": [
    "# Write APIs to load data for Task 2 and split into Train/Validation set"
   ]
  },
  {
   "cell_type": "code",
   "execution_count": null,
   "metadata": {},
   "outputs": [],
   "source": [
    "# Unit tests to ensure data load for Task 2 is correct (display few of the samples)"
   ]
  },
  {
   "cell_type": "code",
   "execution_count": null,
   "metadata": {},
   "outputs": [],
   "source": [
    "# Implement DL algorithm for Task 2 in next few cells"
   ]
  },
  {
   "cell_type": "code",
   "execution_count": null,
   "metadata": {},
   "outputs": [],
   "source": [
    "# Document quality metric for Task 2 on validation set (display few of the results as well)"
   ]
  },
  {
   "cell_type": "code",
   "execution_count": null,
   "metadata": {},
   "outputs": [],
   "source": [
    "# Save trained model for Task 2 (Ensure to download this to your local system / google drive for persistance storage)"
   ]
  },
  {
   "cell_type": "markdown",
   "metadata": {
    "id": "5Kjaf5Xedr58"
   },
   "source": [
    "## Task 3 - Online Training"
   ]
  },
  {
   "cell_type": "code",
   "execution_count": null,
   "metadata": {
    "id": "1HrOa0Jddr58"
   },
   "outputs": [],
   "source": [
    "# Load saved model from Task 2"
   ]
  },
  {
   "cell_type": "code",
   "execution_count": null,
   "metadata": {
    "id": "0irGmQm5dr58"
   },
   "outputs": [],
   "source": [
    "# Write APIs to perform online training for given test data in next few cells"
   ]
  },
  {
   "cell_type": "code",
   "execution_count": 19,
   "metadata": {
    "id": "7JDwDewWdr58"
   },
   "outputs": [],
   "source": [
    "# Implement a top level function for inference on test data\n",
    "# Input 1: Path to directory containing 'N' ordered images for given test sample\n",
    "# Input 2: Path to directory containing corresponding 'N' masks with filename as that of images \n",
    "#          Here, use only mask[0] with images for online training where as mask[1:N] are ground truth for evaluating predictions\n",
    "# Output 1: Quality metric for every single mask prediction from time (t=1 to t = T) and average for the same\n",
    "# Output 2: Display all predicted masks along with original RGB image and ground truth masks in order"
   ]
  },
  {
   "cell_type": "markdown",
   "metadata": {
    "id": "E70PGEBkdr58"
   },
   "source": [
    "## Variants - Extra Credit"
   ]
  },
  {
   "cell_type": "code",
   "execution_count": null,
   "metadata": {
    "id": "niyk0eK9dr5-"
   },
   "outputs": [],
   "source": []
  }
 ],
 "metadata": {
  "accelerator": "GPU",
  "colab": {
   "collapsed_sections": [],
   "name": "VAR_RNN.ipynb",
   "provenance": []
  },
  "kernelspec": {
   "display_name": "Python 3",
   "language": "python",
   "name": "python3"
  },
  "language_info": {
   "codemirror_mode": {
    "name": "ipython",
    "version": 3
   },
   "file_extension": ".py",
   "mimetype": "text/x-python",
   "name": "python",
   "nbconvert_exporter": "python",
   "pygments_lexer": "ipython3",
   "version": "3.6.9"
  }
 },
 "nbformat": 4,
 "nbformat_minor": 4
}
